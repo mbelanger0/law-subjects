{
 "cells": [
  {
   "cell_type": "code",
   "execution_count": 46,
   "metadata": {},
   "outputs": [
    {
     "name": "stdout",
     "output_type": "stream",
     "text": [
      "                                               Number  Senator  State  \\\n",
      "0             5076 Sen. Blunt, Roy [R-MO] MO Congress      NaN    NaN   \n",
      "1   371 Sen. Fischer, Deb [R-NE] NE Finance and Fi...      NaN    NaN   \n",
      "2   1310 Sen. Cardin, Benjamin L. [D-MD] MD Intern...      NaN    NaN   \n",
      "3   4996 Sen. Graham, Lindsey [R-SC] SC Finance an...      NaN    NaN   \n",
      "4         5086 Sen. Klobuchar, Amy [D-MN] MN Congress      NaN    NaN   \n",
      "5   3418 Sen. Peters, Gary C. [D-MI] MI Emergency ...      NaN    NaN   \n",
      "6   906 Sen. Feinstein, Dianne [D-CA] CA Public La...      NaN    NaN   \n",
      "7   3985 Sen. Scott, Tim [R-SC] SC Crime and Law E...      NaN    NaN   \n",
      "8   979 Sen. Rubio, Marco [R-FL] FL Emergency Mana...      NaN    NaN   \n",
      "9   914 Sen. Wicker, Roger F. [R-MS] MS Public Lan...      NaN    NaN   \n",
      "10            461 Sen. Scott, Tim [R-SC] SC Education      NaN    NaN   \n",
      "11  3989 Sen. Toomey, Patrick [R-PA] PA Government...      NaN    NaN   \n",
      "12  3312 Sen. Cornyn, John [R-TX] TX Crime and Law...      NaN    NaN   \n",
      "13  2730 Sen. Peters, Gary C. [D-MI] MI Transporta...      NaN    NaN   \n",
      "14         2683 Sen. Burr, Richard [R-NC] NC Families      NaN    NaN   \n",
      "15  2216 Sen. Peters, Gary C. [D-MI] MI Armed Forc...      NaN    NaN   \n",
      "16  2174 Sen. Cornyn, John [R-TX] TX Crime and Law...      NaN    NaN   \n",
      "17  1869 Sen. Peters, Gary C. [D-MI] MI Government...      NaN    NaN   \n",
      "18  1694 Sen. Peters, Gary C. [D-MI] MI Science, T...      NaN    NaN   \n",
      "19  1342 Sen. Peters, Gary C. [D-MI] MI Public Lan...      NaN    NaN   \n",
      "20  989 Sen. Schatz, Brian [D-HI] HI Native Americans      NaN    NaN   \n",
      "21  5329 Sen. Blumenthal, Richard [D-CT] CT Agricu...      NaN    NaN   \n",
      "22  5328 Sen. Cortez Masto, Catherine [D-NV] NV Ag...      NaN    NaN   \n",
      "23      5168 Sen. Padilla, Alex [D-CA] CA Immigration      NaN    NaN   \n",
      "24  5087 Sen. Murkowski, Lisa [R-AK] AK Native Ame...      NaN    NaN   \n",
      "25  5066 Sen. Murkowski, Lisa [R-AK] AK Government...      NaN    NaN   \n",
      "26  5016 Sen. Murkowski, Lisa [R-AK] AK Armed Forc...      NaN    NaN   \n",
      "27          4978 Sen. Barrasso, John [R-WY] WY Health      NaN    NaN   \n",
      "28  4949 Sen. Tester, Jon [D-MT] MT Armed Forces a...      NaN    NaN   \n",
      "29  4926 Sen. Cornyn, John [R-TX] TX Crime and Law...      NaN    NaN   \n",
      "30  450 Sen. Burr, Richard [R-NC] NC Civil Rights ...      NaN    NaN   \n",
      "31  4439 Sen. Padilla, Alex [D-CA] CA Native Ameri...      NaN    NaN   \n",
      "32  4411 Sen. Cruz, Ted [R-TX] TX Government Opera...      NaN    NaN   \n",
      "33  4240 Sen. Grassley, Chuck [R-IA] IA Crime and ...      NaN    NaN   \n",
      "34              4120 Sen. Reed, Jack [D-RI] RI Health      NaN    NaN   \n",
      "35  4104 Sen. Sinema, Kyrsten [D-AZ] AZ Native Ame...      NaN    NaN   \n",
      "36  3949 Sen. Grassley, Chuck [R-IA] IA Crime and ...      NaN    NaN   \n",
      "37  3946 Sen. Cornyn, John [R-TX] TX Crime and Law...      NaN    NaN   \n",
      "38  3773 Sen. Cantwell, Maria [D-WA] WA Native Ame...      NaN    NaN   \n",
      "39  3519 Sen. Boozman, John [R-AR] AR Public Lands...      NaN    NaN   \n",
      "\n",
      "    Policy Area  \n",
      "0           NaN  \n",
      "1           NaN  \n",
      "2           NaN  \n",
      "3           NaN  \n",
      "4           NaN  \n",
      "5           NaN  \n",
      "6           NaN  \n",
      "7           NaN  \n",
      "8           NaN  \n",
      "9           NaN  \n",
      "10          NaN  \n",
      "11          NaN  \n",
      "12          NaN  \n",
      "13          NaN  \n",
      "14          NaN  \n",
      "15          NaN  \n",
      "16          NaN  \n",
      "17          NaN  \n",
      "18          NaN  \n",
      "19          NaN  \n",
      "20          NaN  \n",
      "21          NaN  \n",
      "22          NaN  \n",
      "23          NaN  \n",
      "24          NaN  \n",
      "25          NaN  \n",
      "26          NaN  \n",
      "27          NaN  \n",
      "28          NaN  \n",
      "29          NaN  \n",
      "30          NaN  \n",
      "31          NaN  \n",
      "32          NaN  \n",
      "33          NaN  \n",
      "34          NaN  \n",
      "35          NaN  \n",
      "36          NaN  \n",
      "37          NaN  \n",
      "38          NaN  \n",
      "39          NaN  \n"
     ]
    },
    {
     "name": "stderr",
     "output_type": "stream",
     "text": [
      "/tmp/ipykernel_450/642559539.py:2: FutureWarning: In a future version of pandas all arguments of read_csv except for the argument 'filepath_or_buffer' will be keyword-only.\n",
      "  bills = pd.read_csv(\"bill_data.csv\", \"/n\", names = [\"Number\", \"Senator\", \"State\", \"Policy Area\"])\n",
      "/tmp/ipykernel_450/642559539.py:2: ParserWarning: Falling back to the 'python' engine because the 'c' engine does not support regex separators (separators > 1 char and different from '\\s+' are interpreted as regex); you can avoid this warning by specifying engine='python'.\n",
      "  bills = pd.read_csv(\"bill_data.csv\", \"/n\", names = [\"Number\", \"Senator\", \"State\", \"Policy Area\"])\n"
     ]
    }
   ],
   "source": [
    "import pandas as pd\n",
    "bills = pd.read_csv(\"bill_data.csv\", \"/n\", names = [\"Number\", \"Senator\", \"State\", \"Policy Area\"])\n",
    "print(bills)\n",
    "\n"
   ]
  }
 ],
 "metadata": {
  "kernelspec": {
   "display_name": "base",
   "language": "python",
   "name": "python3"
  },
  "language_info": {
   "codemirror_mode": {
    "name": "ipython",
    "version": 3
   },
   "file_extension": ".py",
   "mimetype": "text/x-python",
   "name": "python",
   "nbconvert_exporter": "python",
   "pygments_lexer": "ipython3",
   "version": "3.9.13"
  },
  "orig_nbformat": 4
 },
 "nbformat": 4,
 "nbformat_minor": 2
}
