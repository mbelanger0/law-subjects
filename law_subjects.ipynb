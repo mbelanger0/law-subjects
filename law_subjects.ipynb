{
    "cells": [
        {
            "cell_type": "code",
            "execution_count": null,
            "metadata": {},
            "outputs": [],
            "source": [
                "%load_ext autoreload\n",
                "%autoreload 2"
            ]
        },
        {
            "cell_type": "code",
            "execution_count": null,
            "metadata": {},
            "outputs": [],
            "source": [
                "import pandas as pd\n",
                "import json\n",
                "import requests\n",
                "import matplotlib.pyplot as plt\n",
                "import geopandas as gpd\n",
                "import geoplot as gplt\n",
                "import geoplot.crs as gcrs\n",
                "from get_data import get_data\n",
                "from api_keys import API_KEY\n",
                "from data_processing import common_subject, count_subject\n",
                "from maps import get_map_data, make_geodata, add_map_data"
            ]
        },
        {
            "cell_type": "code",
            "execution_count": null,
            "metadata": {},
            "outputs": [],
            "source": [
                "get_data(116, 117, API_KEY)\n",
                "bills = pd.read_csv(\"bills_data.csv\")"
            ]
        },
        {
            "cell_type": "code",
            "execution_count": null,
            "metadata": {},
            "outputs": [],
            "source": [
                "bills_per_congress = bills[\"Congress\"].value_counts()\n",
                "plt.bar(bills_per_congress.index.tolist(), bills_per_congress.tolist())\n",
                "plt.title(\"Number of Bills per Congress\")\n",
                "plt.xlabel(\"Congress\")\n",
                "plt.ylabel(\"Number of Bills\")\n",
                "plt.locator_params(axis='x', nbins=len(bills_per_congress.index.tolist()))\n",
                "plt.locator_params(axis='y', nbins=max(bills_per_congress.tolist()))\n",
                "plt.show()"
            ]
        },
        {
            "cell_type": "code",
            "execution_count": 48,
            "metadata": {},
            "outputs": [
                {
                    "name": "stdout",
                    "output_type": "stream",
                    "text": [
                        "{'MO': {'Agriculture and Food': 0, 'Animals': 0, 'Armed Forces and National Security': 0, 'Arts, Culture, Religion': 0, 'Civil Rights and Liberties, Minority Issues': 0, 'Commerce': 0, 'Congress': 1, 'Crime and Law Enforcement': 0, 'Economics and Public Finance': 0, 'Education': 0, 'Emergency Management': 0, 'Energy': 0, 'Environmental Protection': 0, 'Families': 0, 'Finance and Financial Sector': 0, 'Foreign Trade and International Finance': 0, 'Government Operations and Politics': 0, 'Health': 0, 'Housing and Community Development': 0, 'Immigration': 0, 'International Affairs': 0, 'Labor and Employment': 0, 'Law': 0, 'Native Americans': 0, 'Public Lands and Natural Resources': 0, 'Science, Technology, Communications': 0, 'Social Sciences and History': 0, 'Social Welfare': 0, 'Sports and Recreation': 0, 'Taxation': 0, 'Transportation and Public Works': 0, 'Water Resources Development': 0}, 'NE': {'Agriculture and Food': 0, 'Animals': 0, 'Armed Forces and National Security': 0, 'Arts, Culture, Religion': 0, 'Civil Rights and Liberties, Minority Issues': 0, 'Commerce': 0, 'Congress': 0, 'Crime and Law Enforcement': 0, 'Economics and Public Finance': 0, 'Education': 0, 'Emergency Management': 0, 'Energy': 0, 'Environmental Protection': 0, 'Families': 0, 'Finance and Financial Sector': 1, 'Foreign Trade and International Finance': 0, 'Government Operations and Politics': 0, 'Health': 0, 'Housing and Community Development': 0, 'Immigration': 0, 'International Affairs': 0, 'Labor and Employment': 0, 'Law': 0, 'Native Americans': 0, 'Public Lands and Natural Resources': 0, 'Science, Technology, Communications': 0, 'Social Sciences and History': 0, 'Social Welfare': 0, 'Sports and Recreation': 0, 'Taxation': 0, 'Transportation and Public Works': 0, 'Water Resources Development': 0}, 'MD': {'Agriculture and Food': 0, 'Animals': 0, 'Armed Forces and National Security': 0, 'Arts, Culture, Religion': 0, 'Civil Rights and Liberties, Minority Issues': 0, 'Commerce': 0, 'Congress': 0, 'Crime and Law Enforcement': 0, 'Economics and Public Finance': 0, 'Education': 0, 'Emergency Management': 0, 'Energy': 0, 'Environmental Protection': 0, 'Families': 0, 'Finance and Financial Sector': 0, 'Foreign Trade and International Finance': 0, 'Government Operations and Politics': 0, 'Health': 0, 'Housing and Community Development': 0, 'Immigration': 0, 'International Affairs': 1, 'Labor and Employment': 0, 'Law': 0, 'Native Americans': 0, 'Public Lands and Natural Resources': 0, 'Science, Technology, Communications': 0, 'Social Sciences and History': 0, 'Social Welfare': 0, 'Sports and Recreation': 0, 'Taxation': 0, 'Transportation and Public Works': 0, 'Water Resources Development': 0}, 'SC': {'Agriculture and Food': 0, 'Animals': 0, 'Armed Forces and National Security': 0, 'Arts, Culture, Religion': 0, 'Civil Rights and Liberties, Minority Issues': 0, 'Commerce': 0, 'Congress': 0, 'Crime and Law Enforcement': 1, 'Economics and Public Finance': 0, 'Education': 1, 'Emergency Management': 0, 'Energy': 0, 'Environmental Protection': 0, 'Families': 0, 'Finance and Financial Sector': 1, 'Foreign Trade and International Finance': 0, 'Government Operations and Politics': 0, 'Health': 0, 'Housing and Community Development': 0, 'Immigration': 0, 'International Affairs': 0, 'Labor and Employment': 0, 'Law': 0, 'Native Americans': 0, 'Public Lands and Natural Resources': 0, 'Science, Technology, Communications': 0, 'Social Sciences and History': 0, 'Social Welfare': 0, 'Sports and Recreation': 0, 'Taxation': 0, 'Transportation and Public Works': 0, 'Water Resources Development': 0}, 'MN': {'Agriculture and Food': 0, 'Animals': 0, 'Armed Forces and National Security': 0, 'Arts, Culture, Religion': 0, 'Civil Rights and Liberties, Minority Issues': 0, 'Commerce': 0, 'Congress': 1, 'Crime and Law Enforcement': 0, 'Economics and Public Finance': 0, 'Education': 0, 'Emergency Management': 0, 'Energy': 0, 'Environmental Protection': 0, 'Families': 0, 'Finance and Financial Sector': 0, 'Foreign Trade and International Finance': 0, 'Government Operations and Politics': 0, 'Health': 0, 'Housing and Community Development': 0, 'Immigration': 0, 'International Affairs': 0, 'Labor and Employment': 0, 'Law': 0, 'Native Americans': 0, 'Public Lands and Natural Resources': 0, 'Science, Technology, Communications': 0, 'Social Sciences and History': 0, 'Social Welfare': 0, 'Sports and Recreation': 0, 'Taxation': 0, 'Transportation and Public Works': 0, 'Water Resources Development': 0}, 'MI': {'Agriculture and Food': 0, 'Animals': 0, 'Armed Forces and National Security': 1, 'Arts, Culture, Religion': 0, 'Civil Rights and Liberties, Minority Issues': 0, 'Commerce': 0, 'Congress': 0, 'Crime and Law Enforcement': 0, 'Economics and Public Finance': 0, 'Education': 0, 'Emergency Management': 1, 'Energy': 0, 'Environmental Protection': 0, 'Families': 0, 'Finance and Financial Sector': 0, 'Foreign Trade and International Finance': 0, 'Government Operations and Politics': 1, 'Health': 0, 'Housing and Community Development': 0, 'Immigration': 0, 'International Affairs': 0, 'Labor and Employment': 0, 'Law': 0, 'Native Americans': 0, 'Public Lands and Natural Resources': 1, 'Science, Technology, Communications': 1, 'Social Sciences and History': 0, 'Social Welfare': 0, 'Sports and Recreation': 0, 'Taxation': 0, 'Transportation and Public Works': 1, 'Water Resources Development': 0}, 'CA': {'Agriculture and Food': 0, 'Animals': 0, 'Armed Forces and National Security': 0, 'Arts, Culture, Religion': 0, 'Civil Rights and Liberties, Minority Issues': 0, 'Commerce': 0, 'Congress': 0, 'Crime and Law Enforcement': 0, 'Economics and Public Finance': 0, 'Education': 0, 'Emergency Management': 0, 'Energy': 0, 'Environmental Protection': 0, 'Families': 0, 'Finance and Financial Sector': 0, 'Foreign Trade and International Finance': 0, 'Government Operations and Politics': 0, 'Health': 0, 'Housing and Community Development': 0, 'Immigration': 1, 'International Affairs': 0, 'Labor and Employment': 0, 'Law': 0, 'Native Americans': 1, 'Public Lands and Natural Resources': 1, 'Science, Technology, Communications': 0, 'Social Sciences and History': 0, 'Social Welfare': 0, 'Sports and Recreation': 0, 'Taxation': 0, 'Transportation and Public Works': 0, 'Water Resources Development': 0}, 'FL': {'Agriculture and Food': 0, 'Animals': 0, 'Armed Forces and National Security': 0, 'Arts, Culture, Religion': 0, 'Civil Rights and Liberties, Minority Issues': 0, 'Commerce': 0, 'Congress': 0, 'Crime and Law Enforcement': 0, 'Economics and Public Finance': 0, 'Education': 0, 'Emergency Management': 1, 'Energy': 0, 'Environmental Protection': 0, 'Families': 0, 'Finance and Financial Sector': 0, 'Foreign Trade and International Finance': 0, 'Government Operations and Politics': 0, 'Health': 0, 'Housing and Community Development': 0, 'Immigration': 0, 'International Affairs': 0, 'Labor and Employment': 0, 'Law': 0, 'Native Americans': 0, 'Public Lands and Natural Resources': 0, 'Science, Technology, Communications': 0, 'Social Sciences and History': 0, 'Social Welfare': 0, 'Sports and Recreation': 0, 'Taxation': 0, 'Transportation and Public Works': 0, 'Water Resources Development': 0}, 'MS': {'Agriculture and Food': 0, 'Animals': 0, 'Armed Forces and National Security': 0, 'Arts, Culture, Religion': 0, 'Civil Rights and Liberties, Minority Issues': 0, 'Commerce': 0, 'Congress': 0, 'Crime and Law Enforcement': 0, 'Economics and Public Finance': 0, 'Education': 0, 'Emergency Management': 0, 'Energy': 0, 'Environmental Protection': 0, 'Families': 0, 'Finance and Financial Sector': 0, 'Foreign Trade and International Finance': 0, 'Government Operations and Politics': 0, 'Health': 0, 'Housing and Community Development': 0, 'Immigration': 0, 'International Affairs': 0, 'Labor and Employment': 0, 'Law': 0, 'Native Americans': 0, 'Public Lands and Natural Resources': 1, 'Science, Technology, Communications': 0, 'Social Sciences and History': 0, 'Social Welfare': 0, 'Sports and Recreation': 0, 'Taxation': 0, 'Transportation and Public Works': 0, 'Water Resources Development': 0}, 'PA': {'Agriculture and Food': 0, 'Animals': 0, 'Armed Forces and National Security': 0, 'Arts, Culture, Religion': 0, 'Civil Rights and Liberties, Minority Issues': 0, 'Commerce': 0, 'Congress': 0, 'Crime and Law Enforcement': 0, 'Economics and Public Finance': 0, 'Education': 0, 'Emergency Management': 0, 'Energy': 0, 'Environmental Protection': 0, 'Families': 0, 'Finance and Financial Sector': 0, 'Foreign Trade and International Finance': 0, 'Government Operations and Politics': 1, 'Health': 0, 'Housing and Community Development': 0, 'Immigration': 0, 'International Affairs': 0, 'Labor and Employment': 0, 'Law': 0, 'Native Americans': 0, 'Public Lands and Natural Resources': 0, 'Science, Technology, Communications': 0, 'Social Sciences and History': 0, 'Social Welfare': 0, 'Sports and Recreation': 0, 'Taxation': 0, 'Transportation and Public Works': 0, 'Water Resources Development': 0}, 'TX': {'Agriculture and Food': 0, 'Animals': 0, 'Armed Forces and National Security': 0, 'Arts, Culture, Religion': 0, 'Civil Rights and Liberties, Minority Issues': 0, 'Commerce': 0, 'Congress': 0, 'Crime and Law Enforcement': 4, 'Economics and Public Finance': 0, 'Education': 0, 'Emergency Management': 0, 'Energy': 0, 'Environmental Protection': 0, 'Families': 0, 'Finance and Financial Sector': 0, 'Foreign Trade and International Finance': 0, 'Government Operations and Politics': 1, 'Health': 0, 'Housing and Community Development': 0, 'Immigration': 0, 'International Affairs': 0, 'Labor and Employment': 0, 'Law': 0, 'Native Americans': 0, 'Public Lands and Natural Resources': 0, 'Science, Technology, Communications': 0, 'Social Sciences and History': 0, 'Social Welfare': 0, 'Sports and Recreation': 0, 'Taxation': 0, 'Transportation and Public Works': 0, 'Water Resources Development': 0}, 'NC': {'Agriculture and Food': 0, 'Animals': 0, 'Armed Forces and National Security': 0, 'Arts, Culture, Religion': 0, 'Civil Rights and Liberties, Minority Issues': 1, 'Commerce': 0, 'Congress': 0, 'Crime and Law Enforcement': 0, 'Economics and Public Finance': 0, 'Education': 0, 'Emergency Management': 0, 'Energy': 0, 'Environmental Protection': 0, 'Families': 1, 'Finance and Financial Sector': 0, 'Foreign Trade and International Finance': 0, 'Government Operations and Politics': 0, 'Health': 0, 'Housing and Community Development': 0, 'Immigration': 0, 'International Affairs': 0, 'Labor and Employment': 0, 'Law': 0, 'Native Americans': 0, 'Public Lands and Natural Resources': 0, 'Science, Technology, Communications': 0, 'Social Sciences and History': 0, 'Social Welfare': 0, 'Sports and Recreation': 0, 'Taxation': 0, 'Transportation and Public Works': 0, 'Water Resources Development': 0}, 'HI': {'Agriculture and Food': 0, 'Animals': 0, 'Armed Forces and National Security': 0, 'Arts, Culture, Religion': 0, 'Civil Rights and Liberties, Minority Issues': 0, 'Commerce': 0, 'Congress': 0, 'Crime and Law Enforcement': 0, 'Economics and Public Finance': 0, 'Education': 0, 'Emergency Management': 0, 'Energy': 0, 'Environmental Protection': 0, 'Families': 0, 'Finance and Financial Sector': 0, 'Foreign Trade and International Finance': 0, 'Government Operations and Politics': 0, 'Health': 0, 'Housing and Community Development': 0, 'Immigration': 0, 'International Affairs': 0, 'Labor and Employment': 0, 'Law': 0, 'Native Americans': 1, 'Public Lands and Natural Resources': 0, 'Science, Technology, Communications': 0, 'Social Sciences and History': 0, 'Social Welfare': 0, 'Sports and Recreation': 0, 'Taxation': 0, 'Transportation and Public Works': 0, 'Water Resources Development': 0}, 'CT': {'Agriculture and Food': 1, 'Animals': 0, 'Armed Forces and National Security': 0, 'Arts, Culture, Religion': 0, 'Civil Rights and Liberties, Minority Issues': 0, 'Commerce': 0, 'Congress': 0, 'Crime and Law Enforcement': 0, 'Economics and Public Finance': 0, 'Education': 0, 'Emergency Management': 0, 'Energy': 0, 'Environmental Protection': 0, 'Families': 0, 'Finance and Financial Sector': 0, 'Foreign Trade and International Finance': 0, 'Government Operations and Politics': 0, 'Health': 0, 'Housing and Community Development': 0, 'Immigration': 0, 'International Affairs': 0, 'Labor and Employment': 0, 'Law': 0, 'Native Americans': 0, 'Public Lands and Natural Resources': 0, 'Science, Technology, Communications': 0, 'Social Sciences and History': 0, 'Social Welfare': 0, 'Sports and Recreation': 0, 'Taxation': 0, 'Transportation and Public Works': 0, 'Water Resources Development': 0}, 'NV': {'Agriculture and Food': 1, 'Animals': 0, 'Armed Forces and National Security': 0, 'Arts, Culture, Religion': 0, 'Civil Rights and Liberties, Minority Issues': 0, 'Commerce': 0, 'Congress': 0, 'Crime and Law Enforcement': 0, 'Economics and Public Finance': 0, 'Education': 0, 'Emergency Management': 0, 'Energy': 0, 'Environmental Protection': 0, 'Families': 0, 'Finance and Financial Sector': 0, 'Foreign Trade and International Finance': 0, 'Government Operations and Politics': 0, 'Health': 0, 'Housing and Community Development': 0, 'Immigration': 0, 'International Affairs': 0, 'Labor and Employment': 0, 'Law': 0, 'Native Americans': 0, 'Public Lands and Natural Resources': 0, 'Science, Technology, Communications': 0, 'Social Sciences and History': 0, 'Social Welfare': 0, 'Sports and Recreation': 0, 'Taxation': 0, 'Transportation and Public Works': 0, 'Water Resources Development': 0}, 'AK': {'Agriculture and Food': 0, 'Animals': 0, 'Armed Forces and National Security': 1, 'Arts, Culture, Religion': 0, 'Civil Rights and Liberties, Minority Issues': 0, 'Commerce': 0, 'Congress': 0, 'Crime and Law Enforcement': 0, 'Economics and Public Finance': 0, 'Education': 0, 'Emergency Management': 0, 'Energy': 0, 'Environmental Protection': 0, 'Families': 0, 'Finance and Financial Sector': 0, 'Foreign Trade and International Finance': 0, 'Government Operations and Politics': 1, 'Health': 0, 'Housing and Community Development': 0, 'Immigration': 0, 'International Affairs': 0, 'Labor and Employment': 0, 'Law': 0, 'Native Americans': 1, 'Public Lands and Natural Resources': 0, 'Science, Technology, Communications': 0, 'Social Sciences and History': 0, 'Social Welfare': 0, 'Sports and Recreation': 0, 'Taxation': 0, 'Transportation and Public Works': 0, 'Water Resources Development': 0}, 'WY': {'Agriculture and Food': 0, 'Animals': 0, 'Armed Forces and National Security': 0, 'Arts, Culture, Religion': 0, 'Civil Rights and Liberties, Minority Issues': 0, 'Commerce': 0, 'Congress': 0, 'Crime and Law Enforcement': 0, 'Economics and Public Finance': 0, 'Education': 0, 'Emergency Management': 0, 'Energy': 0, 'Environmental Protection': 0, 'Families': 0, 'Finance and Financial Sector': 0, 'Foreign Trade and International Finance': 0, 'Government Operations and Politics': 0, 'Health': 1, 'Housing and Community Development': 0, 'Immigration': 0, 'International Affairs': 0, 'Labor and Employment': 0, 'Law': 0, 'Native Americans': 0, 'Public Lands and Natural Resources': 0, 'Science, Technology, Communications': 0, 'Social Sciences and History': 0, 'Social Welfare': 0, 'Sports and Recreation': 0, 'Taxation': 0, 'Transportation and Public Works': 0, 'Water Resources Development': 0}, 'MT': {'Agriculture and Food': 0, 'Animals': 0, 'Armed Forces and National Security': 1, 'Arts, Culture, Religion': 0, 'Civil Rights and Liberties, Minority Issues': 0, 'Commerce': 0, 'Congress': 0, 'Crime and Law Enforcement': 0, 'Economics and Public Finance': 0, 'Education': 0, 'Emergency Management': 0, 'Energy': 0, 'Environmental Protection': 0, 'Families': 0, 'Finance and Financial Sector': 0, 'Foreign Trade and International Finance': 0, 'Government Operations and Politics': 0, 'Health': 0, 'Housing and Community Development': 0, 'Immigration': 0, 'International Affairs': 0, 'Labor and Employment': 0, 'Law': 0, 'Native Americans': 0, 'Public Lands and Natural Resources': 0, 'Science, Technology, Communications': 0, 'Social Sciences and History': 0, 'Social Welfare': 0, 'Sports and Recreation': 0, 'Taxation': 0, 'Transportation and Public Works': 0, 'Water Resources Development': 0}, 'IA': {'Agriculture and Food': 0, 'Animals': 0, 'Armed Forces and National Security': 0, 'Arts, Culture, Religion': 0, 'Civil Rights and Liberties, Minority Issues': 0, 'Commerce': 0, 'Congress': 0, 'Crime and Law Enforcement': 2, 'Economics and Public Finance': 0, 'Education': 0, 'Emergency Management': 0, 'Energy': 0, 'Environmental Protection': 0, 'Families': 0, 'Finance and Financial Sector': 0, 'Foreign Trade and International Finance': 0, 'Government Operations and Politics': 0, 'Health': 0, 'Housing and Community Development': 0, 'Immigration': 0, 'International Affairs': 0, 'Labor and Employment': 0, 'Law': 0, 'Native Americans': 0, 'Public Lands and Natural Resources': 0, 'Science, Technology, Communications': 0, 'Social Sciences and History': 0, 'Social Welfare': 0, 'Sports and Recreation': 0, 'Taxation': 0, 'Transportation and Public Works': 0, 'Water Resources Development': 0}, 'RI': {'Agriculture and Food': 0, 'Animals': 0, 'Armed Forces and National Security': 0, 'Arts, Culture, Religion': 0, 'Civil Rights and Liberties, Minority Issues': 0, 'Commerce': 0, 'Congress': 0, 'Crime and Law Enforcement': 0, 'Economics and Public Finance': 0, 'Education': 0, 'Emergency Management': 0, 'Energy': 0, 'Environmental Protection': 0, 'Families': 0, 'Finance and Financial Sector': 0, 'Foreign Trade and International Finance': 0, 'Government Operations and Politics': 0, 'Health': 1, 'Housing and Community Development': 0, 'Immigration': 0, 'International Affairs': 0, 'Labor and Employment': 0, 'Law': 0, 'Native Americans': 0, 'Public Lands and Natural Resources': 0, 'Science, Technology, Communications': 0, 'Social Sciences and History': 0, 'Social Welfare': 0, 'Sports and Recreation': 0, 'Taxation': 0, 'Transportation and Public Works': 0, 'Water Resources Development': 0}, 'AZ': {'Agriculture and Food': 0, 'Animals': 0, 'Armed Forces and National Security': 0, 'Arts, Culture, Religion': 0, 'Civil Rights and Liberties, Minority Issues': 0, 'Commerce': 0, 'Congress': 0, 'Crime and Law Enforcement': 0, 'Economics and Public Finance': 0, 'Education': 0, 'Emergency Management': 0, 'Energy': 0, 'Environmental Protection': 0, 'Families': 0, 'Finance and Financial Sector': 0, 'Foreign Trade and International Finance': 0, 'Government Operations and Politics': 0, 'Health': 0, 'Housing and Community Development': 0, 'Immigration': 0, 'International Affairs': 0, 'Labor and Employment': 0, 'Law': 0, 'Native Americans': 1, 'Public Lands and Natural Resources': 0, 'Science, Technology, Communications': 0, 'Social Sciences and History': 0, 'Social Welfare': 0, 'Sports and Recreation': 0, 'Taxation': 0, 'Transportation and Public Works': 0, 'Water Resources Development': 0}, 'WA': {'Agriculture and Food': 0, 'Animals': 0, 'Armed Forces and National Security': 0, 'Arts, Culture, Religion': 0, 'Civil Rights and Liberties, Minority Issues': 0, 'Commerce': 0, 'Congress': 0, 'Crime and Law Enforcement': 0, 'Economics and Public Finance': 0, 'Education': 0, 'Emergency Management': 0, 'Energy': 0, 'Environmental Protection': 0, 'Families': 0, 'Finance and Financial Sector': 0, 'Foreign Trade and International Finance': 0, 'Government Operations and Politics': 0, 'Health': 0, 'Housing and Community Development': 0, 'Immigration': 0, 'International Affairs': 0, 'Labor and Employment': 0, 'Law': 0, 'Native Americans': 1, 'Public Lands and Natural Resources': 0, 'Science, Technology, Communications': 0, 'Social Sciences and History': 0, 'Social Welfare': 0, 'Sports and Recreation': 0, 'Taxation': 0, 'Transportation and Public Works': 0, 'Water Resources Development': 0}, 'AR': {'Agriculture and Food': 0, 'Animals': 0, 'Armed Forces and National Security': 0, 'Arts, Culture, Religion': 0, 'Civil Rights and Liberties, Minority Issues': 0, 'Commerce': 0, 'Congress': 0, 'Crime and Law Enforcement': 0, 'Economics and Public Finance': 0, 'Education': 0, 'Emergency Management': 0, 'Energy': 0, 'Environmental Protection': 0, 'Families': 0, 'Finance and Financial Sector': 0, 'Foreign Trade and International Finance': 0, 'Government Operations and Politics': 0, 'Health': 0, 'Housing and Community Development': 0, 'Immigration': 0, 'International Affairs': 0, 'Labor and Employment': 0, 'Law': 0, 'Native Americans': 0, 'Public Lands and Natural Resources': 1, 'Science, Technology, Communications': 0, 'Social Sciences and History': 0, 'Social Welfare': 0, 'Sports and Recreation': 0, 'Taxation': 0, 'Transportation and Public Works': 0, 'Water Resources Development': 0}}\n"
                    ]
                },
                {
                    "data": {
                        "text/plain": [
                            "{'MO': 'Congress',\n",
                            " 'NE': 'Finance and Financial Sector',\n",
                            " 'MD': 'International Affairs',\n",
                            " 'SC': 'Crime and Law Enforcement',\n",
                            " 'MN': 'Congress',\n",
                            " 'MI': 'Armed Forces and National Security',\n",
                            " 'CA': 'Immigration',\n",
                            " 'FL': 'Emergency Management',\n",
                            " 'MS': 'Public Lands and Natural Resources',\n",
                            " 'PA': 'Government Operations and Politics',\n",
                            " 'TX': 'Crime and Law Enforcement',\n",
                            " 'NC': 'Civil Rights and Liberties, Minority Issues',\n",
                            " 'HI': 'Native Americans',\n",
                            " 'CT': 'Agriculture and Food',\n",
                            " 'NV': 'Agriculture and Food',\n",
                            " 'AK': 'Armed Forces and National Security',\n",
                            " 'WY': 'Health',\n",
                            " 'MT': 'Armed Forces and National Security',\n",
                            " 'IA': 'Crime and Law Enforcement',\n",
                            " 'RI': 'Health',\n",
                            " 'AZ': 'Native Americans',\n",
                            " 'WA': 'Native Americans',\n",
                            " 'AR': 'Public Lands and Natural Resources'}"
                        ]
                    },
                    "execution_count": 48,
                    "metadata": {},
                    "output_type": "execute_result"
                }
            ],
            "source": [
                "states_and_policy_areas = bills[[\"State\",\"Policy Areas\"]]\n",
                "state_policy_dict = {}\n",
                "for state in states_and_policy_areas[\"State\"].tolist(): \n",
                "    state_policy_dict[state] = states_and_policy_areas[states_and_policy_areas[\"State\"]==state][\"Policy Areas\"].tolist()\n",
                "state_subject_dict = count_subject(state_policy_dict)\n",
                "print(state_subject_dict)\n",
                "most_common_policy_area = common_subject(state_subject_dict)\n"
            ]
        }
    ],
    "metadata": {
        "kernelspec": {
            "display_name": "base",
            "language": "python",
            "name": "python3"
        },
        "language_info": {
            "codemirror_mode": {
                "name": "ipython",
                "version": 3
            },
            "file_extension": ".py",
            "mimetype": "text/x-python",
            "name": "python",
            "nbconvert_exporter": "python",
            "pygments_lexer": "ipython3",
            "version": "3.9.13"
        },
        "orig_nbformat": 4
    },
    "nbformat": 4,
    "nbformat_minor": 2
}
