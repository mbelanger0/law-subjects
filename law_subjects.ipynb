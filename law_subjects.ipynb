{
    "cells": [
        {
            "cell_type": "code",
            "execution_count": 3,
            "metadata": {},
            "outputs": [],
            "source": [
                "%load_ext autoreload\n",
                "%autoreload 2"
            ]
        },
        {
            "cell_type": "code",
            "execution_count": 1,
            "metadata": {},
            "outputs": [],
            "source": [
                "from api_keys import API_KEY\n",
                "import requests, json\n",
                "\n",
                "bills = requests.get(f'https://api.congress.gov/v3/bill/117/s?&api_key={API_KEY}')"
            ]
        },
        {
            "cell_type": "code",
            "execution_count": 8,
            "metadata": {},
            "outputs": [
                {
                    "name": "stdout",
                    "output_type": "stream",
                    "text": [
                        "{'bills': [{'congress': 117, 'latestAction': {'actionDate': '2023-01-05', 'text': 'Became Public Law No: 117-335.'}, 'number': '989', 'originChamber': 'Senate', 'originChamberCode': 'S', 'title': 'Native American Language Resource Center Act of 2022', 'type': 'S', 'updateDate': '2023-03-08', 'updateDateIncludingText': '2023-03-08T20:12:22Z', 'url': 'https://api.congress.gov/v3/bill/117/s/989?format=json'}, {'congress': 117, 'latestAction': {'actionDate': '2023-01-05', 'text': 'Became Public Law No: 117-362.'}, 'number': '5329', 'originChamber': 'Senate', 'originChamberCode': 'S', 'title': 'A bill to amend the Bill Emerson Good Samaritan Food Donation Act to improve the program, and for other purposes.', 'type': 'S', 'updateDate': '2023-03-08', 'updateDateIncludingText': '2023-03-08T19:58:35Z', 'url': 'https://api.congress.gov/v3/bill/117/s/5329?format=json'}, {'congress': 117, 'latestAction': {'actionDate': '2023-01-05', 'text': 'Became Public Law No: 117-361.'}, 'number': '5328', 'originChamber': 'Senate', 'originChamberCode': 'S', 'title': 'A bill to amend the Farm Security and Rural Investment Act of 2002 to extend terminal lakes assistance.', 'type': 'S', 'updateDate': '2023-03-08', 'updateDateIncludingText': '2023-03-08T19:59:03Z', 'url': 'https://api.congress.gov/v3/bill/117/s/5328?format=json'}, {'congress': 117, 'latestAction': {'actionDate': '2023-01-05', 'text': 'Became Public Law No: 117-360.'}, 'number': '5168', 'originChamber': 'Senate', 'originChamberCode': 'S', 'title': 'Energy Security and Lightering Independence Act of 2022', 'type': 'S', 'updateDate': '2023-02-06', 'updateDateIncludingText': '2023-02-06T15:45:18Z', 'url': 'https://api.congress.gov/v3/bill/117/s/5168?format=json'}, {'congress': 117, 'latestAction': {'actionDate': '2023-01-05', 'text': 'Became Public Law No: 117-359.'}, 'number': '5087', 'originChamber': 'Senate', 'originChamberCode': 'S', 'title': 'A bill to amend the Not Invisible Act of 2019 to extend, and provide additional support for, the activities of the Department of the Interior and the Department of Justice Joint Commission on Reducing Violent Crime Against Indians, and for other purposes.', 'type': 'S', 'updateDate': '2023-01-25', 'updateDateIncludingText': '2023-01-25T05:19:08Z', 'url': 'https://api.congress.gov/v3/bill/117/s/5087?format=json'}, {'congress': 117, 'latestAction': {'actionDate': '2023-01-05', 'text': 'Became Public Law No: 117-358.'}, 'number': '5066', 'originChamber': 'Senate', 'originChamberCode': 'S', 'title': 'Don Young Recognition Act', 'type': 'S', 'updateDate': '2023-01-25', 'updateDateIncludingText': '2023-01-25T05:18:57Z', 'url': 'https://api.congress.gov/v3/bill/117/s/5066?format=json'}, {'congress': 117, 'latestAction': {'actionDate': '2023-01-05', 'text': 'Became Public Law No: 117-357.'}, 'number': '5016', 'originChamber': 'Senate', 'originChamberCode': 'S', 'title': 'Colonel Mary Louise Rasmuson Campus of the Alaska VA Healthcare System Act of 2022', 'type': 'S', 'updateDate': '2023-01-25', 'updateDateIncludingText': '2023-01-25T05:20:31Z', 'url': 'https://api.congress.gov/v3/bill/117/s/5016?format=json'}, {'congress': 117, 'latestAction': {'actionDate': '2023-01-05', 'text': 'Became Public Law No: 117-356.'}, 'number': '4978', 'originChamber': 'Senate', 'originChamberCode': 'S', 'title': 'State Offices of Rural Health Program Reauthorization Act of 2022', 'type': 'S', 'updateDate': '2023-03-08', 'updateDateIncludingText': '2023-03-08T19:58:48Z', 'url': 'https://api.congress.gov/v3/bill/117/s/4978?format=json'}, {'congress': 117, 'latestAction': {'actionDate': '2023-01-05', 'text': 'Became Public Law No: 117-355.'}, 'number': '4949', 'originChamber': 'Senate', 'originChamberCode': 'S', 'title': 'National Cemeteries Preservation and Protection Act of 2022', 'type': 'S', 'updateDate': '2023-01-25', 'updateDateIncludingText': '2023-01-25T05:17:25Z', 'url': 'https://api.congress.gov/v3/bill/117/s/4949?format=json'}, {'congress': 117, 'latestAction': {'actionDate': '2023-01-05', 'text': 'Became Public Law No: 117-354.'}, 'number': '4926', 'originChamber': 'Senate', 'originChamberCode': 'S', 'title': 'Respect for Child Survivors Act', 'type': 'S', 'updateDate': '2023-01-25', 'updateDateIncludingText': '2023-01-25T05:19:37Z', 'url': 'https://api.congress.gov/v3/bill/117/s/4926?format=json'}, {'congress': 117, 'latestAction': {'actionDate': '2023-01-05', 'text': 'Became Public Law No: 117-334.'}, 'number': '450', 'originChamber': 'Senate', 'originChamberCode': 'S', 'title': 'Emmett Till and Mamie Till-Mobley Congressional Gold Medal Act of 2021', 'type': 'S', 'updateDate': '2023-03-08', 'updateDateIncludingText': '2023-03-08T20:12:10Z', 'url': 'https://api.congress.gov/v3/bill/117/s/450?format=json'}, {'congress': 117, 'latestAction': {'actionDate': '2023-01-05', 'text': 'Became Public Law No: 117-353.'}, 'number': '4439', 'originChamber': 'Senate', 'originChamberCode': 'S', 'title': 'Katimiîn and Ameekyáaraam Sacred Lands Act', 'type': 'S', 'updateDate': '2023-03-08', 'updateDateIncludingText': '2023-03-08T19:59:13Z', 'url': 'https://api.congress.gov/v3/bill/117/s/4439?format=json'}, {'congress': 117, 'latestAction': {'actionDate': '2023-01-05', 'text': 'Became Public Law No: 117-352.'}, 'number': '4411', 'originChamber': 'Senate', 'originChamberCode': 'S', 'title': 'A bill to designate the facility of the United States Postal Service located at 5302 Galveston Road in Houston, Texas, as the \"Vanessa Guillen Post Office Building\".', 'type': 'S', 'updateDate': '2023-03-08', 'updateDateIncludingText': '2023-03-08T20:12:35Z', 'url': 'https://api.congress.gov/v3/bill/117/s/4411?format=json'}, {'congress': 117, 'latestAction': {'actionDate': '2023-01-05', 'text': 'Became Public Law No: 117-351.'}, 'number': '4240', 'originChamber': 'Senate', 'originChamberCode': 'S', 'title': 'Justice for Victims of War Crimes Act', 'type': 'S', 'updateDate': '2023-01-25', 'updateDateIncludingText': '2023-01-25T05:17:04Z', 'url': 'https://api.congress.gov/v3/bill/117/s/4240?format=json'}, {'congress': 117, 'latestAction': {'actionDate': '2023-01-05', 'text': 'Became Public Law No: 117-350.'}, 'number': '4120', 'originChamber': 'Senate', 'originChamberCode': 'S', 'title': 'Childhood Cancer STAR Reauthorization Act', 'type': 'S', 'updateDate': '2023-03-08', 'updateDateIncludingText': '2023-03-08T20:12:35Z', 'url': 'https://api.congress.gov/v3/bill/117/s/4120?format=json'}, {'congress': 117, 'latestAction': {'actionDate': '2023-01-05', 'text': 'Became Public Law No: 117-349.'}, 'number': '4104', 'originChamber': 'Senate', 'originChamberCode': 'S', 'title': 'Hualapai Tribe Water Rights Settlement Act of 2022', 'type': 'S', 'updateDate': '2023-03-08', 'updateDateIncludingText': '2023-03-08T20:12:44Z', 'url': 'https://api.congress.gov/v3/bill/117/s/4104?format=json'}, {'congress': 117, 'latestAction': {'actionDate': '2023-01-05', 'text': 'Became Public Law No: 117-348.'}, 'number': '3949', 'originChamber': 'Senate', 'originChamberCode': 'S', 'title': 'Trafficking Victims Prevention and Protection Reauthorization Act of 2022', 'type': 'S', 'updateDate': '2023-01-25', 'updateDateIncludingText': '2023-01-25T05:19:47Z', 'url': 'https://api.congress.gov/v3/bill/117/s/3949?format=json'}, {'congress': 117, 'latestAction': {'actionDate': '2023-01-05', 'text': 'Became Public Law No: 117-347.'}, 'number': '3946', 'originChamber': 'Senate', 'originChamberCode': 'S', 'title': 'Abolish Trafficking Reauthorization Act of 2022', 'type': 'S', 'updateDate': '2023-03-08', 'updateDateIncludingText': '2023-03-08T20:12:35Z', 'url': 'https://api.congress.gov/v3/bill/117/s/3946?format=json'}, {'congress': 117, 'latestAction': {'actionDate': '2023-01-05', 'text': 'Became Public Law No: 117-346.'}, 'number': '3773', 'originChamber': 'Senate', 'originChamberCode': 'S', 'title': 'A bill to authorize leases of up to 99 years for land held in trust for the Confederated Tribes of the Chehalis Reservation.', 'type': 'S', 'updateDate': '2023-03-08', 'updateDateIncludingText': '2023-03-08T19:59:14Z', 'url': 'https://api.congress.gov/v3/bill/117/s/3773?format=json'}, {'congress': 117, 'latestAction': {'actionDate': '2023-01-05', 'text': 'Became Public Law No: 117-345.'}, 'number': '3519', 'originChamber': 'Senate', 'originChamberCode': 'S', 'title': 'Butterfield Overland National Historic Trail Designation Act', 'type': 'S', 'updateDate': '2023-02-07', 'updateDateIncludingText': '2023-02-07T05:15:58Z', 'url': 'https://api.congress.gov/v3/bill/117/s/3519?format=json'}], 'pagination': {'count': 5357, 'next': 'https://api.congress.gov/v3/bill/117/s?offset=20&limit=20&format=json'}, 'request': {'billType': 's', 'congress': '117', 'contentType': 'application/json', 'format': 'json'}}\n"
                    ]
                }
            ],
            "source": [
                "\n",
                "bill_nye = bills.json()\n",
                "print(bill_nye)\n",
                "len(bill_nye[\"bills\"])\n",
                "bill_values = []\n",
                "\n",
                "from get_data import get_data\n",
                "get_data(116, 117, API_KEY)"
            ]
        }
    ],
    "metadata": {
        "kernelspec": {
            "display_name": "base",
            "language": "python",
            "name": "python3"
        },
        "language_info": {
            "codemirror_mode": {
                "name": "ipython",
                "version": 3
            },
            "file_extension": ".py",
            "mimetype": "text/x-python",
            "name": "python",
            "nbconvert_exporter": "python",
            "pygments_lexer": "ipython3",
            "version": "3.9.13"
        },
        "orig_nbformat": 4
    },
    "nbformat": 4,
    "nbformat_minor": 2
}
