{
    "cells": [
        {
            "attachments": {},
            "cell_type": "markdown",
            "metadata": {},
            "source": [
                "# Bill Policy Areas and Geographic Regions: Is there a Correlation? \n",
                "##### By Noah Woosley, Noah Rand, Mark Belanger\n",
                "##### March 31, 2023"
            ]
        },
        {
            "attachments": {},
            "cell_type": "markdown",
            "metadata": {},
            "source": [
                "### Research Question: Do senators from states in different geographical regions favor the proposition of certain bill policy areas over?\n",
                "The United States is a large country from many standpoints, including land area, population, economics output, and more. Being so large means that some regions of the country have different needs and interests than other. These needs and interest can carry over to Congress.\n",
                "\n",
                "When a Senator proposes a bill, it has to be designated with one of thirty-two policy areas. These policy areas label the overall topic of the bill being proposed. These policy areas range agriculture to water to immigration to energy and more. When proposing policy in Congress, Senators from some states might favor proposing bills of certain policy areas more than other because of the aforementioned differences in regions. For example, Senators from Midwestern states may favor agricultural bills because of the large farming industry present there while Senators from Western states may favor water bills because of the droughts they experience. \n",
                "\n",
                "This project attempts to study if there is a noticeable correlation between geographic region and the most common bill policy area from Senators of each state. Please run the following two code cells to ensure that the notebook is up to date and the proper libraries are imported"
            ]
        },
        {
            "cell_type": "code",
            "execution_count": null,
            "metadata": {},
            "outputs": [],
            "source": [
                "%load_ext autoreload\n",
                "%autoreload 2"
            ]
        },
        {
            "cell_type": "code",
            "execution_count": null,
            "metadata": {},
            "outputs": [],
            "source": [
                "import pandas as pd\n",
                "import json\n",
                "import requests\n",
                "import matplotlib.pyplot as plt\n",
                "import geopandas as gpd\n",
                "import geoplot as gplt\n",
                "import geoplot.crs as gcrs\n",
                "from get_data import get_data\n",
                "from api_keys import API_KEY\n",
                "from data_processing import common_subject, count_subject\n",
                "from maps import get_map_data, make_geodata, add_map_data"
            ]
        },
        {
            "attachments": {},
            "cell_type": "markdown",
            "metadata": {},
            "source": [
                "### Methodology"
            ]
        },
        {
            "cell_type": "code",
            "execution_count": null,
            "metadata": {},
            "outputs": [],
            "source": [
                "get_data(116, 117, API_KEY)\n",
                "bills = pd.read_csv(\"bills_data.csv\")"
            ]
        },
        {
            "attachments": {},
            "cell_type": "markdown",
            "metadata": {},
            "source": [
                "*explain that modern bills are usually omnibus bills"
            ]
        },
        {
            "cell_type": "code",
            "execution_count": null,
            "metadata": {},
            "outputs": [],
            "source": [
                "# Bills per Congress plot\n",
                "bills_per_congress = bills[\"Congress\"].value_counts()\n",
                "plt.bar(bills_per_congress.index.tolist(), bills_per_congress.tolist())\n",
                "plt.title(\"Number of Bills per Congress\")\n",
                "plt.xlabel(\"Congress\")\n",
                "plt.ylabel(\"Number of Bills\")\n",
                "plt.locator_params(axis='x', nbins=len(bills_per_congress.index.tolist()))\n",
                "plt.locator_params(axis='y', nbins=max(bills_per_congress.tolist()))\n",
                "plt.show()"
            ]
        },
        {
            "attachments": {},
            "cell_type": "markdown",
            "metadata": {},
            "source": [
                "### Results"
            ]
        },
        {
            "cell_type": "code",
            "execution_count": null,
            "metadata": {},
            "outputs": [],
            "source": [
                "# Dictionaries needed for geoplots\n",
                "states_and_policy_areas = bills[[\"State\",\"Policy Areas\"]]\n",
                "state_policy_dict = {}\n",
                "for state in states_and_policy_areas[\"State\"].tolist(): \n",
                "    state_policy_dict[state] = states_and_policy_areas[states_and_policy_areas[\"State\"]==state][\"Policy Areas\"].tolist()\n",
                "state_subject_dict = count_subject(state_policy_dict)\n",
                "most_common_policy_area = common_subject(state_subject_dict)\n"
            ]
        },
        {
            "cell_type": "code",
            "execution_count": null,
            "metadata": {},
            "outputs": [],
            "source": [
                "# Data calculations to make geoplot\n",
                "map_data_dict = get_map_data()\n",
                "new_map_data_dict = add_map_data(map_data_dict,bills[\"State\"].value_counts().to_dict(),most_common_policy_area)\n",
                "map_data_geoframe = make_geodata(new_map_data_dict)"
            ]
        },
        {
            "cell_type": "code",
            "execution_count": null,
            "metadata": {},
            "outputs": [],
            "source": [
                "# Bills per State geoplot\n",
                "gplt.choropleth(\n",
                "    map_data_geoframe,\n",
                "    hue=\"bill count\",\n",
                "    cmap = \"OrRd\",\n",
                "    legend = True,\n",
                ")\n",
                "print(\"Bill Count by State\")"
            ]
        },
        {
            "cell_type": "code",
            "execution_count": null,
            "metadata": {},
            "outputs": [],
            "source": [
                "# Most common policy areas per state geoplot\n",
                "gplt.choropleth(\n",
                "    map_data_geoframe,\n",
                "    hue=\"policy area\",\n",
                "    cmap = \"tab20\",\n",
                "    legend = True,\n",
                "    legend_kwargs={'bbox_to_anchor': (1.5, 1), 'frameon': False},\n",
                ")\n",
                "print(\"Most Common Policy Area by State\")"
            ]
        },
        {
            "attachments": {},
            "cell_type": "markdown",
            "metadata": {},
            "source": [
                "### Analysis"
            ]
        }
    ],
    "metadata": {
        "kernelspec": {
            "display_name": "base",
            "language": "python",
            "name": "python3"
        },
        "language_info": {
            "codemirror_mode": {
                "name": "ipython",
                "version": 3
            },
            "file_extension": ".py",
            "mimetype": "text/x-python",
            "name": "python",
            "nbconvert_exporter": "python",
            "pygments_lexer": "ipython3",
            "version": "3.9.13"
        },
        "orig_nbformat": 4
    },
    "nbformat": 4,
    "nbformat_minor": 2
}
