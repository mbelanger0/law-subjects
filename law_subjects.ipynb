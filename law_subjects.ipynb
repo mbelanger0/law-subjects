{
    "cells": [
        {
            "attachments": {},
            "cell_type": "markdown",
            "metadata": {},
            "source": [
                "# Bill Policy Areas and Geographic Regions: Is there a Correlation? \n",
                "##### By Noah Woosley, Noah Rand, Mark Belanger\n",
                "##### March 31, 2023"
            ]
        },
        {
            "attachments": {},
            "cell_type": "markdown",
            "metadata": {},
            "source": [
                "### Research Question: Do senators from states in different geographical regions favor the proposition of certain bill policy areas over?\n",
                "The United States is a large country from many standpoints, including land area, population, economic output, and more. Being so large means that some regions of the country have different needs and interests than others. These needs and interests can carry over to Congress.\n",
                "\n",
                "When a Senator proposes a bill, it has to be designated within one of thirty-two policy areas. These policy areas label the overall topic of the bill being proposed. These policy areas range agriculture to water to immigration to energy and more. When proposing policy in Congress, Senators from some states might favor proposing bills of certain policy areas more than others because of the aforementioned differences in regions. For example, Senators from Midwestern states may favor agricultural bills, due to their large farming industry, while Senators from Western states may favor water bills due to the droughts they experience.\n",
                "\n",
                "This project attempts to study if there is a noticeable correlation between geographic region and the most common bill policy area from Senators of each state. Please run the following two code cells to ensure that the notebook is up to date and the proper libraries are imported.\n"
            ]
        },
        {
            "cell_type": "code",
            "execution_count": null,
            "metadata": {},
            "outputs": [
                {
                    "ename": "",
                    "evalue": "",
                    "output_type": "error",
                    "traceback": [
                        "\u001b[1;31mRunning cells with '/bin/python3' requires the ipykernel package.\n",
                        "\u001b[1;31mRun the following command to install 'ipykernel' into the Python environment. \n",
                        "\u001b[1;31mCommand: '/bin/python3 -m pip install ipykernel -U --user --force-reinstall'"
                    ]
                }
            ],
            "source": [
                "%load_ext autoreload\n",
                "%autoreload 2"
            ]
        },
        {
            "cell_type": "code",
            "execution_count": null,
            "metadata": {},
            "outputs": [
                {
                    "ename": "",
                    "evalue": "",
                    "output_type": "error",
                    "traceback": [
                        "\u001b[1;31mRunning cells with '/bin/python3' requires the ipykernel package.\n",
                        "\u001b[1;31mRun the following command to install 'ipykernel' into the Python environment. \n",
                        "\u001b[1;31mCommand: '/bin/python3 -m pip install ipykernel -U --user --force-reinstall'"
                    ]
                }
            ],
            "source": [
                "import pandas as pd\n",
                "import json\n",
                "import requests\n",
                "import matplotlib as mpl\n",
                "import matplotlib.pyplot as plt\n",
                "import geopandas as gpd\n",
                "import geoplot as gplt\n",
                "import geoplot.crs as gcrs\n",
                "from get_data import get_data\n",
                "from api_keys import API_KEY\n",
                "from data_processing import common_subject, count_subject\n",
                "from maps import get_map_data, make_geodata, add_map_data"
            ]
        },
        {
            "attachments": {},
            "cell_type": "markdown",
            "metadata": {},
            "source": [
                "### Methodology\n",
                "\n",
                "Data about bills proposed in the Senate of the 117th Congress was pulled from the Congress API, api.congress.gov. This is outputted as a dictionary that contains information about 250 of the bills proposed in the Senate during that Congress. The Congress lasted between January 3, 2021, and January 3, 2023. The bill number for each bill is the information that was most important for this step. An API key from the API is required to pull the data.\n",
                "Once we had a dictionary containing the bill numbers associated with each bill, we iterated through all the bill numbers to get data about each individual bill from the API. The data included many fields, however, the ones we stored were bill number, congress number, sponsor, state, and policy area. The most important data categories we stored were the policy area and state, because we could use them to create plots comparing state and policy areas, helping us find trends within regions. \n",
                "To store this data, we used the pandas library to save the data in a dataframe with each row being a bill, and the columns being the aforementioned fields. Once this dataframe was made, it was converted to a csv file using the same formatting for rows and columns as described for the dataframe. Putting this data onto geospatial plots demonstrating the most popular policy area, by color, for each state allows us to visually see trends through groups of states marked with the same color.\n",
                "This entire process was made into a function with the inputs being the start congress to get data from, the end congress to get data from, and the API key.\n",
                "\n",
                "Run the code cell below to run the function for the 117th Congress."
            ]
        },
        {
            "cell_type": "code",
            "execution_count": null,
            "metadata": {},
            "outputs": [
                {
                    "ename": "",
                    "evalue": "",
                    "output_type": "error",
                    "traceback": [
                        "\u001b[1;31mRunning cells with '/bin/python3' requires the ipykernel package.\n",
                        "\u001b[1;31mRun the following command to install 'ipykernel' into the Python environment. \n",
                        "\u001b[1;31mCommand: '/bin/python3 -m pip install ipykernel -U --user --force-reinstall'"
                    ]
                }
            ],
            "source": [
                "get_data(117, 117, API_KEY)\n",
                "bills = pd.read_csv(\"bills_data.csv\")"
            ]
        },
        {
            "attachments": {},
            "cell_type": "markdown",
            "metadata": {},
            "source": [
                "### Results and Interpretations:"
            ]
        },
        {
            "attachments": {},
            "cell_type": "markdown",
            "metadata": {},
            "source": [
                "Now that we have data for the bills in the 117th Congress, let’s take a look at the ten most common policy areas. Run the code cell below to generate a plot for this data."
            ]
        },
        {
            "cell_type": "code",
            "execution_count": null,
            "metadata": {},
            "outputs": [
                {
                    "ename": "",
                    "evalue": "",
                    "output_type": "error",
                    "traceback": [
                        "\u001b[1;31mRunning cells with '/bin/python3' requires the ipykernel package.\n",
                        "\u001b[1;31mRun the following command to install 'ipykernel' into the Python environment. \n",
                        "\u001b[1;31mCommand: '/bin/python3 -m pip install ipykernel -U --user --force-reinstall'"
                    ]
                }
            ],
            "source": [
                "# Bills per Congress plot\n",
                "bills = pd.read_csv(\"bills_data.csv\")\n",
                "bills_per_policy_area = bills[\"Policy Areas\"].value_counts()\n",
                "plt.bar(bills_per_policy_area.index.tolist()[0:10], bills_per_policy_area.tolist()[0:10], tick_label = bills_per_policy_area.index.tolist()[0:10])\n",
                "plt.title(\"Top Ten Policy Areas\")\n",
                "plt.xlabel(\"Policy Areas\")\n",
                "plt.ylabel(\"Number of Bills\")\n",
                "plt.xticks(rotation=40, ha = \"right\")\n",
                "plt.show()\n"
            ]
        },
        {
            "attachments": {},
            "cell_type": "markdown",
            "metadata": {},
            "source": [
                "From this plot, we can see that the most common policy area for the 117th Congress is “Government Operations and Politics,” which is more popular than the second most common policy area, “Health” by about fifteen bills. Knowing this, we should expect to see “Government Operations and Politics” often on the geospatial plot. The large change between “Government Operations and Politics” and “Health” may be due to “Government Operations and Politics” being a large umbrella for policies used that ultimately dictate how popular the other policy areas are. For example, policies within “Health” may be determined based on government operations policies.\n",
                "\n",
                "Now that we have a visual representation of the ten most popular policy areas, let's look at how many bills are proposed from the Senators of the states. Run the three code cell below to view the geoplot."
            ]
        },
        {
            "cell_type": "code",
            "execution_count": null,
            "metadata": {},
            "outputs": [
                {
                    "ename": "",
                    "evalue": "",
                    "output_type": "error",
                    "traceback": [
                        "\u001b[1;31mRunning cells with '/bin/python3' requires the ipykernel package.\n",
                        "\u001b[1;31mRun the following command to install 'ipykernel' into the Python environment. \n",
                        "\u001b[1;31mCommand: '/bin/python3 -m pip install ipykernel -U --user --force-reinstall'"
                    ]
                }
            ],
            "source": [
                "# Dictionaries needed for geoplots\n",
                "states_and_policy_areas = bills[[\"State\",\"Policy Areas\"]]\n",
                "state_policy_dict = {}\n",
                "for state in states_and_policy_areas[\"State\"].tolist(): \n",
                "    state_policy_dict[state] = states_and_policy_areas[states_and_policy_areas[\"State\"]==state][\"Policy Areas\"].tolist()\n",
                "state_subject_dict = count_subject(state_policy_dict)\n",
                "most_common_policy_area = common_subject(state_subject_dict)\n"
            ]
        },
        {
            "cell_type": "code",
            "execution_count": null,
            "metadata": {},
            "outputs": [
                {
                    "ename": "",
                    "evalue": "",
                    "output_type": "error",
                    "traceback": [
                        "\u001b[1;31mRunning cells with '/bin/python3' requires the ipykernel package.\n",
                        "\u001b[1;31mRun the following command to install 'ipykernel' into the Python environment. \n",
                        "\u001b[1;31mCommand: '/bin/python3 -m pip install ipykernel -U --user --force-reinstall'"
                    ]
                }
            ],
            "source": [
                "# Data calculations to make geoplot\n",
                "map_data_dict = get_map_data()\n",
                "new_map_data_dict = add_map_data(map_data_dict,bills[\"State\"].value_counts().to_dict(),most_common_policy_area)\n",
                "map_data_geoframe = make_geodata(new_map_data_dict)\n"
            ]
        },
        {
            "cell_type": "code",
            "execution_count": null,
            "metadata": {},
            "outputs": [
                {
                    "ename": "",
                    "evalue": "",
                    "output_type": "error",
                    "traceback": [
                        "\u001b[1;31mRunning cells with '/bin/python3' requires the ipykernel package.\n",
                        "\u001b[1;31mRun the following command to install 'ipykernel' into the Python environment. \n",
                        "\u001b[1;31mCommand: '/bin/python3 -m pip install ipykernel -U --user --force-reinstall'"
                    ]
                }
            ],
            "source": [
                "# Bills per State geoplot\n",
                "gplt.choropleth(\n",
                "    map_data_geoframe,\n",
                "    hue=\"bill count\",\n",
                "    cmap = \"OrRd\",\n",
                "    legend = True,\n",
                ")\n",
                "print(\"Bill Count by State\")"
            ]
        },
        {
            "attachments": {},
            "cell_type": "markdown",
            "metadata": {},
            "source": [
                "From this geoplot, we can see that the Senators from Michigan and Ohio were the most active in proposing bills during the 117th Congress. Knowing this, and that “Government Operations and Politics” is the most popular policy area, there is a good chance that Michigan and Ohio’s most common policy area will be “Government Operations and Politics.” We can also see that states with high populations, such as Texas, Florida, California, and Massachusetts have relatively large amounts of bills proposed by their Senators. This is likely caused by the fact that the larger populations have more opinions, requests, and influence on their Senators, causing them to propose more bills representing their citizens. However, this is not universally true, as New York has a high population but was not very active in proposing bills. In fact, Senators from Maine proposed more Senate bills than New York, despite Maine having a smaller population."
            ]
        },
        {
            "attachments": {},
            "cell_type": "markdown",
            "metadata": {},
            "source": [
                "Now that we have context for policy area popularity and activity of states, let’s look at the information aggregated together and see what policy area is most popular for each state."
            ]
        },
        {
            "cell_type": "code",
            "execution_count": null,
            "metadata": {},
            "outputs": [
                {
                    "ename": "",
                    "evalue": "",
                    "output_type": "error",
                    "traceback": [
                        "\u001b[1;31mRunning cells with '/bin/python3' requires the ipykernel package.\n",
                        "\u001b[1;31mRun the following command to install 'ipykernel' into the Python environment. \n",
                        "\u001b[1;31mCommand: '/bin/python3 -m pip install ipykernel -U --user --force-reinstall'"
                    ]
                }
            ],
            "source": [
                "# Most common policy areas per state geoplot\n",
                "colors = [\n",
                "    \"#980000\",\n",
                "    \"#FF0000\",\n",
                "    \"#FF9900\",\n",
                "    \"#FFFF00\",\n",
                "    \"#00FF00\",\n",
                "    \"#00FFFF\",\n",
                "    \"#4A86E8\",\n",
                "    \"#0000FF\",\n",
                "    \"#9900FF\",\n",
                "    \"#FF00FF\",\n",
                "    \"#DD7E6B\",\n",
                "    \"#F9CB9C\",\n",
                "    \"#D6D7A8\",\n",
                "    \"#A2C4C9\",\n",
                "    \"#B4A7D6\",\n",
                "    \"#D5B6BD\",\n",
                "    \"#B45F06\",\n",
                "    \"#38761D\",\n",
                "    \"#134F5C\",\n",
                "    \"#1155CC\",\n",
                "    \"#351C75\",\n",
                "    \"#741B47\",\n",
                "    \"#666666\"\n",
                "    ]\n",
                "cmap1 = mpl.colors.ListedColormap(colors,name=\"new_cmap\")\n",
                "gplt.choropleth(\n",
                "    map_data_geoframe,\n",
                "    hue=\"policy area\",\n",
                "    cmap = cmap1,\n",
                "    legend = True,\n",
                "    legend_kwargs={'bbox_to_anchor': (1.5, 1), 'frameon': False},\n",
                ")\n",
                "print(\"Most Common Policy Area by State\")"
            ]
        },
        {
            "attachments": {},
            "cell_type": "markdown",
            "metadata": {},
            "source": [
                "This geoplot shows each state’s most proposed policy area of legislation on a color scale. Multiple states of the same color show preference toward a specific policy area. An initial look at this map reveals no large or noticeable groups of colors. However, there are smaller groupings. Midwestern states like Ohio, Michigan, Minnesota, and Missouri all share a common policy area, “Government Operations and Politics,” which was predicted above knowing that Michigan and Ohio were most active in proposing bills. This however, does not align with our initial thinking that Midwestern states would favor bills relating to agriculture. Other small groups of states with similar policies are Montana and North Dakota for “Armed Forces and National Security,” Colorado and Utah for “Science, Technology, Communications,” Kentucky and Illinois for “Health,” Georgia, Tennessee, Iowa and Texas for “Crime and Law Enforcement,” New York and Connecticut for “Agriculture and Food,” Washington, Nevada and Wyoming for “Health,” South Dakota and Kansas for “Finance and Financial Sector.” Some of these results are surprising. For example, New York and Connecticut share a common policy area of “Agriculture and Food,” although neither states are usually thought of as being associated with agriculture. This suggests the importance of not being presumptuous about state issues, interests, and industries. It also demonstrates that Senators may not be proposing legislation based on national interests rather than their states interest. That being said, no conclusive answer as to why this happened can be answered using our data, this is purely speculation. \n",
                "\n",
                "There likely are reasons why agriculture and food bills are most popular for New York and Connecticut, they may just be poorly known in the public sphere. Trends with other states, though, do align with what is heard in the public sphere. For example, Armed Forces and National Security bills are most common for Montana and North Dakota. This could be related to the fact that both Montana and North Dakota have many military bases located within their state. But this also does not tell the full story: by looking at the geoplot of the amount of bills from each state, Montana and North Dakota both proposed a small amount of bills, less than five, meaning that it is possible that there were no repeat policy areas, so the alphabetical first of the policy areas was chosen. This trend could be apparent for multiple of the state combinations with the same common policy area.\n",
                "\n",
                "### Conclusion\n",
                "Overall, the groupings of states with common policy areas are not very clear as there are not clear regional boundaries between most common policy areas. While there are some adjacent states with similar policy areas, it is generally not a whole region as we hypothesized. In conclusion, there likely is not a strong correlation between geographic region and the most common policy area of a state. Therefore, Senators from different geographic regions likely do not prioritize certain bill policy areas over others. \n"
            ]
        }
    ],
    "metadata": {
        "kernelspec": {
            "display_name": "base",
            "language": "python",
            "name": "python3"
        },
        "language_info": {
            "codemirror_mode": {
                "name": "ipython",
                "version": 3
            },
            "file_extension": ".py",
            "mimetype": "text/x-python",
            "name": "python",
            "nbconvert_exporter": "python",
            "pygments_lexer": "ipython3",
            "version": "3.9.13"
        },
        "orig_nbformat": 4
    },
    "nbformat": 4,
    "nbformat_minor": 2
}
